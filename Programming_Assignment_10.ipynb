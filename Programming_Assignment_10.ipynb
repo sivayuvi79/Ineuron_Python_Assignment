{
  "cells": [
    {
      "cell_type": "markdown",
      "metadata": {
        "id": "view-in-github",
        "colab_type": "text"
      },
      "source": [
        "<a href=\"https://colab.research.google.com/github/sivayuvi79/Ineuron_Python_Assignment/blob/main/Programming_Assignment_10.ipynb\" target=\"_parent\"><img src=\"https://colab.research.google.com/assets/colab-badge.svg\" alt=\"Open In Colab\"/></a>"
      ]
    },
    {
      "cell_type": "markdown",
      "id": "3dcb940f",
      "metadata": {
        "id": "3dcb940f"
      },
      "source": [
        "## Python Basic Programming Assignment 10"
      ]
    },
    {
      "cell_type": "markdown",
      "id": "6720790a",
      "metadata": {
        "id": "6720790a"
      },
      "source": [
        "### 1. Write a Python program to find sum of elements in list?"
      ]
    },
    {
      "cell_type": "code",
      "execution_count": null,
      "id": "533f67cc",
      "metadata": {
        "id": "533f67cc",
        "outputId": "f7889b5a-1893-48de-f3e0-33e8ef957375"
      },
      "outputs": [
        {
          "name": "stdout",
          "output_type": "stream",
          "text": [
            "25\n"
          ]
        }
      ],
      "source": [
        "l = [2, 4, 1, 5, 6, 7]\n",
        "\n",
        "total = 0\n",
        "for i in l:\n",
        "    total += i\n",
        "    \n",
        "print(total)"
      ]
    },
    {
      "cell_type": "markdown",
      "id": "fe1137c3",
      "metadata": {
        "id": "fe1137c3"
      },
      "source": [
        "### 2. Write a Python program to  Multiply all numbers in the list?"
      ]
    },
    {
      "cell_type": "code",
      "execution_count": null,
      "id": "fe22cfb0",
      "metadata": {
        "id": "fe22cfb0",
        "outputId": "b84b2ccd-5bde-46ac-9f47-c83b3e02ace7"
      },
      "outputs": [
        {
          "name": "stdout",
          "output_type": "stream",
          "text": [
            "1680\n"
          ]
        }
      ],
      "source": [
        "l = [2, 4, 1, 5, 6, 7]\n",
        "\n",
        "mul = 1\n",
        "for i in l:\n",
        "    mul *= i\n",
        "    \n",
        "print(mul)"
      ]
    },
    {
      "cell_type": "markdown",
      "id": "078681db",
      "metadata": {
        "id": "078681db"
      },
      "source": [
        "### 3. Write a Python program to find smallest number in a list?"
      ]
    },
    {
      "cell_type": "code",
      "execution_count": null,
      "id": "2ca471f8",
      "metadata": {
        "id": "2ca471f8",
        "outputId": "10a18a92-2d38-47f5-93f9-67eb720a866c"
      },
      "outputs": [
        {
          "name": "stdout",
          "output_type": "stream",
          "text": [
            "-7123\n"
          ]
        }
      ],
      "source": [
        "l = [2, 0, 1, 1235, 6, -7123]\n",
        "\n",
        "minimum = l[0]\n",
        "for i in l:\n",
        "    if i < minimum:\n",
        "        minimum = i\n",
        "        \n",
        "print(minimum)"
      ]
    },
    {
      "cell_type": "markdown",
      "id": "12b04397",
      "metadata": {
        "id": "12b04397"
      },
      "source": [
        "### 4. Write a Python program to find largest number in a list?"
      ]
    },
    {
      "cell_type": "code",
      "execution_count": null,
      "id": "76437f44",
      "metadata": {
        "id": "76437f44",
        "outputId": "2972f71d-7de9-4a05-9bee-66205b61e8bc"
      },
      "outputs": [
        {
          "name": "stdout",
          "output_type": "stream",
          "text": [
            "1235\n"
          ]
        }
      ],
      "source": [
        "l = [2, 0, 1, 1235, 6, -7123]\n",
        "\n",
        "maximum = l[0]\n",
        "for i in l:\n",
        "    if i > maximum:\n",
        "        maximum = i\n",
        "        \n",
        "print(maximum)"
      ]
    },
    {
      "cell_type": "markdown",
      "id": "86442b51",
      "metadata": {
        "id": "86442b51"
      },
      "source": [
        "### 5. Write a Python program to find second largest number in a list?"
      ]
    },
    {
      "cell_type": "code",
      "execution_count": null,
      "id": "4c58e34a",
      "metadata": {
        "id": "4c58e34a",
        "outputId": "4fb2ae57-673c-4553-eecb-bba3456c18b2"
      },
      "outputs": [
        {
          "name": "stdout",
          "output_type": "stream",
          "text": [
            "Second largest number: 6\n"
          ]
        }
      ],
      "source": [
        "l = [2, 0, 1, 1235, 6, -7123]\n",
        "l.sort(reverse=True)\n",
        "print(\"Second largest number:\", l[1])"
      ]
    },
    {
      "cell_type": "markdown",
      "id": "10964d7d",
      "metadata": {
        "id": "10964d7d"
      },
      "source": [
        "### 6. Write a Python program to find N largest elements from a list?"
      ]
    },
    {
      "cell_type": "code",
      "execution_count": null,
      "id": "6dbaef03",
      "metadata": {
        "id": "6dbaef03"
      },
      "outputs": [],
      "source": [
        "def findLarge(lst, n):\n",
        "    \n",
        "    lst.sort(reverse = True)\n",
        "    return lst[n-1]"
      ]
    },
    {
      "cell_type": "code",
      "execution_count": null,
      "id": "024f6884",
      "metadata": {
        "id": "024f6884",
        "outputId": "b37c84ee-dc09-4b77-dc6b-a629776d1f6e"
      },
      "outputs": [
        {
          "data": {
            "text/plain": [
              "6"
            ]
          },
          "execution_count": 19,
          "metadata": {},
          "output_type": "execute_result"
        }
      ],
      "source": [
        "# 2nd Largest Element\n",
        "\n",
        "l = [2, 0, 1, 1235, 6, -7123]\n",
        "findLarge(l, 2)"
      ]
    },
    {
      "cell_type": "code",
      "execution_count": null,
      "id": "747f6e7a",
      "metadata": {
        "id": "747f6e7a",
        "outputId": "29de90ad-b87e-4bc2-ec3e-d781b42d7dd5"
      },
      "outputs": [
        {
          "data": {
            "text/plain": [
              "1"
            ]
          },
          "execution_count": 20,
          "metadata": {},
          "output_type": "execute_result"
        }
      ],
      "source": [
        "# 4th Largest Element\n",
        "\n",
        "l = [2, 0, 1, 1235, 6, -7123]\n",
        "findLarge(l, 4)"
      ]
    },
    {
      "cell_type": "markdown",
      "id": "2f1a1e98",
      "metadata": {
        "id": "2f1a1e98"
      },
      "source": [
        "### 7. Write a Python program to print even numbers in a list?"
      ]
    },
    {
      "cell_type": "code",
      "execution_count": null,
      "id": "3d732576",
      "metadata": {
        "id": "3d732576",
        "outputId": "1df3178a-62c4-4302-a3ab-f9f510649b4f"
      },
      "outputs": [
        {
          "data": {
            "text/plain": [
              "[2, 0, 6, 54, 12, -42]"
            ]
          },
          "execution_count": 23,
          "metadata": {},
          "output_type": "execute_result"
        }
      ],
      "source": [
        "l = [2, 0, 1, 1235, 6, -7123, 21, 54, 12, -23, -42]\n",
        "\n",
        "[ i for i in l if i%2 == 0]"
      ]
    },
    {
      "cell_type": "markdown",
      "id": "989bb324",
      "metadata": {
        "id": "989bb324"
      },
      "source": [
        "### 8. Write a Python program to print odd numbers in a List?"
      ]
    },
    {
      "cell_type": "code",
      "execution_count": null,
      "id": "a314aada",
      "metadata": {
        "id": "a314aada",
        "outputId": "2241b75b-b23e-4a53-f4b9-3cf0424b1b16"
      },
      "outputs": [
        {
          "data": {
            "text/plain": [
              "[1, 1235, -7123, 21, -23]"
            ]
          },
          "execution_count": 26,
          "metadata": {},
          "output_type": "execute_result"
        }
      ],
      "source": [
        "l = [2, 0, 1, 1235, 6, -7123, 21, 54, 12, -23, -42]\n",
        "\n",
        "[ i for i in l if i%2 == 1]"
      ]
    },
    {
      "cell_type": "markdown",
      "id": "185b7b13",
      "metadata": {
        "id": "185b7b13"
      },
      "source": [
        "### 9. Write a Python program to Remove empty List from List?"
      ]
    },
    {
      "cell_type": "code",
      "execution_count": null,
      "id": "9437d81b",
      "metadata": {
        "id": "9437d81b",
        "outputId": "9fc8cf5c-30ba-42c9-f4f0-568cfb73a085"
      },
      "outputs": [
        {
          "data": {
            "text/plain": [
              "[12, 31, [1, 2, -23], [1], [123.23], 2, 321]"
            ]
          },
          "execution_count": 71,
          "metadata": {},
          "output_type": "execute_result"
        }
      ],
      "source": [
        "l = [[], 12, 31, [1,2, -23] , [1], [], [123.23], [], 2, 321]\n",
        "\n",
        "result = []\n",
        "for i in l:\n",
        "    if type(i) == list:\n",
        "        if len(i) != 0:\n",
        "            result.append(i)\n",
        "    else:\n",
        "        result.append(i)\n",
        "\n",
        "result\n",
        "            \n",
        "            "
      ]
    },
    {
      "cell_type": "markdown",
      "id": "278cfacc",
      "metadata": {
        "id": "278cfacc"
      },
      "source": [
        "### 10. Write a Python program to Cloning or Copying a list?"
      ]
    },
    {
      "cell_type": "code",
      "execution_count": null,
      "id": "670afc25",
      "metadata": {
        "id": "670afc25",
        "outputId": "2767b6ac-920b-4117-eaaa-fb0aa1362a42"
      },
      "outputs": [
        {
          "name": "stdout",
          "output_type": "stream",
          "text": [
            "[2, 1, 31, 3, 412, 3, 4667, [2, 3, 1]]\n"
          ]
        }
      ],
      "source": [
        "list1 = [2,1, 31, 3, 412, 3, 4667, [2,3,1]]\n",
        "list2 = []\n",
        "\n",
        "for i in list1:\n",
        "    list2.append(i)\n",
        "    \n",
        "print(list2)"
      ]
    },
    {
      "cell_type": "markdown",
      "id": "b359bedf",
      "metadata": {
        "id": "b359bedf"
      },
      "source": [
        "### 11. Write a Python program to Count occurrences of an element in a list?"
      ]
    },
    {
      "cell_type": "code",
      "execution_count": null,
      "id": "fcebaa59",
      "metadata": {
        "id": "fcebaa59"
      },
      "outputs": [],
      "source": [
        "l = [1,1,1, 3, 4, 1, 7, 8, 6,6,2,1]\n",
        "\n",
        "def occurrences(lst, element):\n",
        "    count = 0\n",
        "    for i in lst:\n",
        "        if i == element:\n",
        "            count += 1\n",
        "            \n",
        "    return count"
      ]
    },
    {
      "cell_type": "code",
      "execution_count": null,
      "id": "f5b78b00",
      "metadata": {
        "id": "f5b78b00",
        "outputId": "3b05309d-d547-4c28-f0e1-04902f84638f"
      },
      "outputs": [
        {
          "data": {
            "text/plain": [
              "5"
            ]
          },
          "execution_count": 77,
          "metadata": {},
          "output_type": "execute_result"
        }
      ],
      "source": [
        "occurrences(l, 1)"
      ]
    },
    {
      "cell_type": "code",
      "execution_count": null,
      "id": "d0632cc2",
      "metadata": {
        "id": "d0632cc2"
      },
      "outputs": [],
      "source": []
    }
  ],
  "metadata": {
    "kernelspec": {
      "display_name": "Python 3 (ipykernel)",
      "language": "python",
      "name": "python3"
    },
    "language_info": {
      "codemirror_mode": {
        "name": "ipython",
        "version": 3
      },
      "file_extension": ".py",
      "mimetype": "text/x-python",
      "name": "python",
      "nbconvert_exporter": "python",
      "pygments_lexer": "ipython3",
      "version": "3.9.7"
    },
    "colab": {
      "provenance": [],
      "include_colab_link": true
    }
  },
  "nbformat": 4,
  "nbformat_minor": 5
}