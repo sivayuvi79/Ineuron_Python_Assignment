{
  "cells": [
    {
      "cell_type": "markdown",
      "metadata": {
        "id": "view-in-github",
        "colab_type": "text"
      },
      "source": [
        "<a href=\"https://colab.research.google.com/github/sivayuvi79/Ineuron_Python_Assignment/blob/main/Programming_Assignment_16.ipynb\" target=\"_parent\"><img src=\"https://colab.research.google.com/assets/colab-badge.svg\" alt=\"Open In Colab\"/></a>"
      ]
    },
    {
      "cell_type": "markdown",
      "id": "7df6e6a0",
      "metadata": {
        "id": "7df6e6a0"
      },
      "source": [
        "## Python Basic Programming Assignment - 16\n",
        "-------------------"
      ]
    },
    {
      "cell_type": "markdown",
      "id": "de299c62",
      "metadata": {
        "id": "de299c62"
      },
      "source": [
        "### 1. Please write a program using generator to print the numbers which can be divisible by 5 and 7 between 0 and n in comma separated form while n is input by console."
      ]
    },
    {
      "cell_type": "code",
      "execution_count": null,
      "id": "a6c4d4fa",
      "metadata": {
        "id": "a6c4d4fa"
      },
      "outputs": [],
      "source": [
        "def task1(n):\n",
        "    \n",
        "    for i in range(n+1):\n",
        "        if i % 5 == 0 and i % 7 == 0:\n",
        "            yield str(i)+' '"
      ]
    },
    {
      "cell_type": "code",
      "execution_count": null,
      "id": "1bac0017",
      "metadata": {
        "id": "1bac0017",
        "outputId": "0756aaf0-be3d-4b50-ec56-4ced56a15774"
      },
      "outputs": [
        {
          "data": {
            "text/plain": [
              "<generator object task1 at 0x000001A94CD60430>"
            ]
          },
          "execution_count": 37,
          "metadata": {},
          "output_type": "execute_result"
        }
      ],
      "source": [
        "task1(100)"
      ]
    },
    {
      "cell_type": "code",
      "execution_count": null,
      "id": "afe2f6f5",
      "metadata": {
        "id": "afe2f6f5",
        "outputId": "c309ba60-1b5a-4116-a492-9812c84dc33b"
      },
      "outputs": [
        {
          "name": "stdout",
          "output_type": "stream",
          "text": [
            "0 , 35 , 70 \n"
          ]
        }
      ],
      "source": [
        "print(', '.join([i for i in task1(100)]))"
      ]
    },
    {
      "cell_type": "markdown",
      "id": "c04aab80",
      "metadata": {
        "id": "c04aab80"
      },
      "source": [
        "--------------\n",
        "### 2. Please write a program using generator to print the even numbers between 0 and n in comma separated form while n is input by console."
      ]
    },
    {
      "cell_type": "code",
      "execution_count": null,
      "id": "d6733e1e",
      "metadata": {
        "id": "d6733e1e"
      },
      "outputs": [],
      "source": [
        "def task2(n):\n",
        "\n",
        "    for i in range(n+1):\n",
        "        if i % 2 == 0:\n",
        "            yield str(i)"
      ]
    },
    {
      "cell_type": "code",
      "execution_count": null,
      "id": "7b43651c",
      "metadata": {
        "id": "7b43651c",
        "outputId": "5bd6d400-166d-455d-86fc-c24b2ea6114b"
      },
      "outputs": [
        {
          "name": "stdout",
          "output_type": "stream",
          "text": [
            "0, 2, 4, 6, 8, 10\n"
          ]
        }
      ],
      "source": [
        "print(', '.join([i for i in task2(10)]))"
      ]
    },
    {
      "cell_type": "markdown",
      "id": "35b72559",
      "metadata": {
        "id": "35b72559"
      },
      "source": [
        "---------------\n",
        "### 3. Please write a program using list comprehension to print the Fibonacci Sequence in comma separated form with a given n input by console."
      ]
    },
    {
      "cell_type": "code",
      "execution_count": null,
      "id": "1995d09b",
      "metadata": {
        "id": "1995d09b"
      },
      "outputs": [],
      "source": [
        "def fibo(n):\n",
        "    i = 0\n",
        "    j = 1\n",
        "    for k in range(n+1):\n",
        "        yield i\n",
        "        i,j = j, i+j"
      ]
    },
    {
      "cell_type": "code",
      "execution_count": null,
      "id": "d776fc43",
      "metadata": {
        "id": "d776fc43",
        "outputId": "86e3fa67-24e4-421f-c1e3-1047e03430d6"
      },
      "outputs": [
        {
          "name": "stdout",
          "output_type": "stream",
          "text": [
            "0,1,1,2,3,5,8,13\n"
          ]
        }
      ],
      "source": [
        "print(','.join([str(num) for num in fibo(7)]))"
      ]
    },
    {
      "cell_type": "markdown",
      "id": "dea0be0f",
      "metadata": {
        "id": "dea0be0f"
      },
      "source": [
        "----------------\n",
        "### 4. Assuming that we have some email addresses in the \"username@companyname.com\" format, please write program to print the user name of a given email address. Both user names and company names are composed of letters only."
      ]
    },
    {
      "cell_type": "code",
      "execution_count": null,
      "id": "b1fa5aa4",
      "metadata": {
        "id": "b1fa5aa4"
      },
      "outputs": [],
      "source": [
        "def username(email: str):\n",
        "    return email.split('@')[0]"
      ]
    },
    {
      "cell_type": "code",
      "execution_count": null,
      "id": "27ed8d0c",
      "metadata": {
        "id": "27ed8d0c",
        "outputId": "f71219ca-25a1-41bb-efa0-06ea19898575"
      },
      "outputs": [
        {
          "data": {
            "text/plain": [
              "'john'"
            ]
          },
          "execution_count": 49,
          "metadata": {},
          "output_type": "execute_result"
        }
      ],
      "source": [
        "username('john@google.com')"
      ]
    },
    {
      "cell_type": "markdown",
      "id": "2834c88f",
      "metadata": {
        "id": "2834c88f"
      },
      "source": [
        "--------------------\n",
        "### 5. Define a class named Shape and its subclass Square. The Square class has an init function which takes a length as argument. Both classes have a area function which can print the area of the shape where Shape's area is 0 by default."
      ]
    },
    {
      "cell_type": "code",
      "execution_count": null,
      "id": "a4b63b09",
      "metadata": {
        "id": "a4b63b09"
      },
      "outputs": [],
      "source": [
        "class Shape:\n",
        "    def __init__(self, length):\n",
        "        self.length = length\n",
        "        \n",
        "    def area(self):\n",
        "        return 0\n",
        "    \n",
        "class Square(Shape):\n",
        "    def area(self):\n",
        "        return self.length*self.length"
      ]
    },
    {
      "cell_type": "code",
      "execution_count": null,
      "id": "7c6fcfd2",
      "metadata": {
        "id": "7c6fcfd2",
        "outputId": "4aaa6d47-9525-43fc-cfcd-35bb86c134ae"
      },
      "outputs": [
        {
          "data": {
            "text/plain": [
              "0"
            ]
          },
          "execution_count": 55,
          "metadata": {},
          "output_type": "execute_result"
        }
      ],
      "source": [
        "shape_obj = Shape(10)\n",
        "\n",
        "shape_obj.area()"
      ]
    },
    {
      "cell_type": "code",
      "execution_count": null,
      "id": "0de04f21",
      "metadata": {
        "id": "0de04f21",
        "outputId": "ba27560a-0c80-43d9-d067-bd9d52d2b6df"
      },
      "outputs": [
        {
          "data": {
            "text/plain": [
              "169"
            ]
          },
          "execution_count": 56,
          "metadata": {},
          "output_type": "execute_result"
        }
      ],
      "source": [
        "square_obj = Square(13)\n",
        "\n",
        "square_obj.area()"
      ]
    },
    {
      "cell_type": "code",
      "execution_count": null,
      "id": "5678c2b1",
      "metadata": {
        "id": "5678c2b1"
      },
      "outputs": [],
      "source": []
    }
  ],
  "metadata": {
    "kernelspec": {
      "display_name": "Python 3 (ipykernel)",
      "language": "python",
      "name": "python3"
    },
    "language_info": {
      "codemirror_mode": {
        "name": "ipython",
        "version": 3
      },
      "file_extension": ".py",
      "mimetype": "text/x-python",
      "name": "python",
      "nbconvert_exporter": "python",
      "pygments_lexer": "ipython3",
      "version": "3.9.7"
    },
    "colab": {
      "provenance": [],
      "include_colab_link": true
    }
  },
  "nbformat": 4,
  "nbformat_minor": 5
}