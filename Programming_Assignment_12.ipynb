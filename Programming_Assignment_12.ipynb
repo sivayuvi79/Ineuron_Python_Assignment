{
  "cells": [
    {
      "cell_type": "markdown",
      "metadata": {
        "id": "view-in-github",
        "colab_type": "text"
      },
      "source": [
        "<a href=\"https://colab.research.google.com/github/sivayuvi79/Ineuron_Python_Assignment/blob/main/Programming_Assignment_12.ipynb\" target=\"_parent\"><img src=\"https://colab.research.google.com/assets/colab-badge.svg\" alt=\"Open In Colab\"/></a>"
      ]
    },
    {
      "cell_type": "markdown",
      "id": "b7231b20",
      "metadata": {
        "id": "b7231b20"
      },
      "source": [
        "# Python Basic Programming Assignment 12\n",
        "-------------"
      ]
    },
    {
      "cell_type": "markdown",
      "id": "d2ec324d",
      "metadata": {
        "id": "d2ec324d"
      },
      "source": [
        "### 1. Write a Python program to Extract Unique values dictionary values?"
      ]
    },
    {
      "cell_type": "code",
      "execution_count": null,
      "id": "4b68b3c7",
      "metadata": {
        "id": "4b68b3c7"
      },
      "outputs": [],
      "source": [
        "dict1 = {'k1': 1, 'k2': 1, 'k3': 'hello', 'k4': 'hello', 'k5':1234}"
      ]
    },
    {
      "cell_type": "code",
      "execution_count": null,
      "id": "b93c1f24",
      "metadata": {
        "id": "b93c1f24"
      },
      "outputs": [],
      "source": [
        "unique_values = {i for i in dict1.values()}"
      ]
    },
    {
      "cell_type": "code",
      "execution_count": null,
      "id": "be8e6045",
      "metadata": {
        "id": "be8e6045",
        "outputId": "83c7769a-faf7-4eca-9ce3-3b868ba31902"
      },
      "outputs": [
        {
          "data": {
            "text/plain": [
              "{1, 1234, 'hello'}"
            ]
          },
          "execution_count": 19,
          "metadata": {},
          "output_type": "execute_result"
        }
      ],
      "source": [
        "unique_values"
      ]
    },
    {
      "cell_type": "markdown",
      "id": "203bcbc3",
      "metadata": {
        "id": "203bcbc3"
      },
      "source": [
        "### 2. Write a Python program to find the sum of all items in a dictionary?"
      ]
    },
    {
      "cell_type": "code",
      "execution_count": null,
      "id": "efc08e0d",
      "metadata": {
        "id": "efc08e0d",
        "outputId": "b4faf038-0fcc-4114-d43e-1f98d49decc1"
      },
      "outputs": [
        {
          "name": "stdout",
          "output_type": "stream",
          "text": [
            "Sum of all values is : 1407\n"
          ]
        }
      ],
      "source": [
        "test_dict = {'k1' : 89,\n",
        "             'k2' : 111,\n",
        "             'k3' : 123,\n",
        "             'k4' : 5}\n",
        "\n",
        "sum = 0\n",
        "for i in test_dict.values():\n",
        "    sum +=sum + i\n",
        "print(\"Sum of all values is : {}\".format(sum))"
      ]
    },
    {
      "cell_type": "markdown",
      "id": "edfbc682",
      "metadata": {
        "id": "edfbc682"
      },
      "source": [
        "### 3. Write a Python program to Merging two Dictionaries?"
      ]
    },
    {
      "cell_type": "code",
      "execution_count": null,
      "id": "7cf2eb9f",
      "metadata": {
        "id": "7cf2eb9f",
        "outputId": "ab9891c1-13d3-4e0c-c09c-0d4f0fe323c8"
      },
      "outputs": [
        {
          "name": "stdout",
          "output_type": "stream",
          "text": [
            "{'x': 1, 'l': 2, 'k': 3, 'z': 4}\n"
          ]
        }
      ],
      "source": [
        "dict1 = { 'x': 1, 'l': 2}\n",
        "dict2 = { 'k': 3, 'z': 4, 'x': 11}\n",
        "# merging dict2 into dict1\n",
        "for item in dict2.items():\n",
        "    dict1.setdefault(item[0], item[1])\n",
        "print(dict1)"
      ]
    },
    {
      "cell_type": "markdown",
      "id": "62eaf687",
      "metadata": {
        "id": "62eaf687"
      },
      "source": [
        "### 4. Write a Python program to convert key-values list to flat dictionary?"
      ]
    },
    {
      "cell_type": "code",
      "execution_count": null,
      "id": "8902c328",
      "metadata": {
        "id": "8902c328",
        "outputId": "2bbc5d4f-90a2-4431-842a-ff2d64ed439a"
      },
      "outputs": [
        {
          "name": "stdout",
          "output_type": "stream",
          "text": [
            "Flattened dictionary : {1: 'Jan', 2: 'Feb', 3: 'March'}\n"
          ]
        }
      ],
      "source": [
        "test_dict = {'month' : [1, 2, 3], 'name' : ['Jan', 'Feb', 'March']}\n",
        "  \n",
        "# Using dict() + zip() to convert key-values list to flat dictionary\n",
        "res = dict(zip(test_dict['month'], test_dict['name']))\n",
        "\n",
        "print(\"Flattened dictionary : \" + str(res)) "
      ]
    },
    {
      "cell_type": "markdown",
      "id": "fcc5015f",
      "metadata": {
        "id": "fcc5015f"
      },
      "source": [
        "### 5. Write a Python program to insertion at the beginning in OrderedDict?"
      ]
    },
    {
      "cell_type": "code",
      "execution_count": null,
      "id": "2f4387f5",
      "metadata": {
        "id": "2f4387f5",
        "outputId": "94e427ff-2cf0-4085-a85a-3e3c1aa8fb28"
      },
      "outputs": [
        {
          "name": "stdout",
          "output_type": "stream",
          "text": [
            "Ordered Dictionary after insertion : OrderedDict([('Jan', '1'), ('Feb', '2'), ('Mar', '3')])\n"
          ]
        }
      ],
      "source": [
        "from collections import OrderedDict\n",
        "  \n",
        "# initialising ordered_dict\n",
        "iniordered_dict = OrderedDict([('Feb', '2'), ('Mar', '3')])\n",
        "  \n",
        "# inserting items in starting of dict \n",
        "iniordered_dict.update({'Jan':'1'})\n",
        "iniordered_dict.move_to_end('Jan', last = False)\n",
        "  \n",
        "# print result\n",
        "print (\"Ordered Dictionary after insertion : \"+str(iniordered_dict))"
      ]
    },
    {
      "cell_type": "markdown",
      "id": "5978c9ab",
      "metadata": {
        "id": "5978c9ab"
      },
      "source": [
        "### 6. Write a Python program to check order of character in string using OrderedDict()?"
      ]
    },
    {
      "cell_type": "code",
      "execution_count": null,
      "id": "9514e78e",
      "metadata": {
        "id": "9514e78e",
        "outputId": "ce86c229-b9fb-498a-f0b6-2f6b6c738b85"
      },
      "outputs": [
        {
          "name": "stdout",
          "output_type": "stream",
          "text": [
            "enter string : Programming\n",
            "Enter Pattern : gram\n",
            "OrderedDict([('P', None), ('r', None), ('o', None), ('g', None), ('a', None), ('m', None), ('i', None), ('n', None)])\n",
            "Pattern matched\n"
          ]
        }
      ],
      "source": [
        "from collections import OrderedDict \n",
        "  \n",
        "def checkOrderofString(str, pattern): \n",
        "      \n",
        "    # create empty OrderedDict \n",
        "    dict = OrderedDict.fromkeys(str) \n",
        "    print(dict)   \n",
        "    ptrlen = 0\n",
        "    for key,value in dict.items(): \n",
        "        \n",
        "        if (key == pattern[ptrlen]): \n",
        "            ptrlen = ptrlen + 1\n",
        "          \n",
        "        # check if we have traverse complete pattern string \n",
        "        if (ptrlen == (len(pattern))):            \n",
        "            return 'true'\n",
        "  \n",
        "    # if we come out from for loop that means order was mismatched \n",
        "    return 'false'\n",
        "  \n",
        "\n",
        "string = input(\"enter string : \")\n",
        "pattern = input(\"Enter Pattern : \")\n",
        "if checkOrderofString(string,pattern):\n",
        "    print(\"Pattern matched\")\n",
        "else:\n",
        "    print(\"Pattern not matched\")"
      ]
    },
    {
      "cell_type": "markdown",
      "id": "f330da77",
      "metadata": {
        "id": "f330da77"
      },
      "source": [
        "### 7. Write a Python program to sort Python Dictionaries by Key or Value?"
      ]
    },
    {
      "cell_type": "code",
      "execution_count": null,
      "id": "d80e3014",
      "metadata": {
        "id": "d80e3014",
        "outputId": "85a353c2-b5e2-448d-c635-fa842102c3ed"
      },
      "outputs": [
        {
          "name": "stdout",
          "output_type": "stream",
          "text": [
            "['4', '6', 'k1', 'k2', 'k3', 'key7']\n",
            "[('4', 4), ('6', 6), ('k1', 2), ('k2', 1), ('k3', 3), ('key7', 7)]\n",
            "[1, 2, 3, 4, 6, 7]\n"
          ]
        }
      ],
      "source": [
        "a = {'k1':2, 'k2':1, 'k3':3, '4':4 ,'6':6, 'key7':7}\n",
        "#this will print a sorted list of the keys\n",
        "print(sorted(a.keys()))\n",
        "#this will print the sorted list with items.\n",
        "print(sorted(a.items()))\n",
        "#a = {1:2 ,2:1 ,4:3 ,3:4 ,6:5 ,5:6 }\n",
        "print(sorted(a.values()))\n",
        "#this will print a sorted list of values."
      ]
    },
    {
      "cell_type": "code",
      "execution_count": null,
      "id": "e4ff7e34",
      "metadata": {
        "id": "e4ff7e34"
      },
      "outputs": [],
      "source": []
    }
  ],
  "metadata": {
    "kernelspec": {
      "display_name": "Python 3 (ipykernel)",
      "language": "python",
      "name": "python3"
    },
    "language_info": {
      "codemirror_mode": {
        "name": "ipython",
        "version": 3
      },
      "file_extension": ".py",
      "mimetype": "text/x-python",
      "name": "python",
      "nbconvert_exporter": "python",
      "pygments_lexer": "ipython3",
      "version": "3.9.7"
    },
    "colab": {
      "provenance": [],
      "include_colab_link": true
    }
  },
  "nbformat": 4,
  "nbformat_minor": 5
}