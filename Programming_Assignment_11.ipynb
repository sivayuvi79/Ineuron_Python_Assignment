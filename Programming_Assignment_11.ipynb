{
  "cells": [
    {
      "cell_type": "markdown",
      "metadata": {
        "id": "view-in-github",
        "colab_type": "text"
      },
      "source": [
        "<a href=\"https://colab.research.google.com/github/sivayuvi79/Ineuron_Python_Assignment/blob/main/Programming_Assignment_11.ipynb\" target=\"_parent\"><img src=\"https://colab.research.google.com/assets/colab-badge.svg\" alt=\"Open In Colab\"/></a>"
      ]
    },
    {
      "cell_type": "markdown",
      "id": "53c7e882",
      "metadata": {
        "id": "53c7e882"
      },
      "source": [
        "# Python Basic Programming Assignment 11\n",
        "--------------------"
      ]
    },
    {
      "cell_type": "markdown",
      "id": "051da140",
      "metadata": {
        "id": "051da140"
      },
      "source": [
        "### 1. Write a Python program to find words which are greater than given length k?"
      ]
    },
    {
      "cell_type": "code",
      "execution_count": null,
      "id": "7d34576a",
      "metadata": {
        "id": "7d34576a"
      },
      "outputs": [],
      "source": [
        "def task1(list_of_words: list, k: int):\n",
        "    output = []\n",
        "    for i in list_of_words:\n",
        "        if len(i) > k:\n",
        "            output.append(i)\n",
        "            \n",
        "    return output"
      ]
    },
    {
      "cell_type": "code",
      "execution_count": null,
      "id": "47e753b4",
      "metadata": {
        "id": "47e753b4",
        "outputId": "74d2ffdd-94ab-4c0f-952e-b38b4d74d1f5"
      },
      "outputs": [
        {
          "data": {
            "text/plain": [
              "['bananana', 'almond']"
            ]
          },
          "execution_count": 5,
          "metadata": {},
          "output_type": "execute_result"
        }
      ],
      "source": [
        "list_of_words = ['Apple', 'bananana', 'kiwi', 'berry', 'almond']\n",
        "k = 5\n",
        "\n",
        "task1(list_of_words, k)"
      ]
    },
    {
      "cell_type": "markdown",
      "id": "26719cbd",
      "metadata": {
        "id": "26719cbd"
      },
      "source": [
        "### 2. Write a Python program for removing i-th character from a string?"
      ]
    },
    {
      "cell_type": "code",
      "execution_count": null,
      "id": "3425ccc2",
      "metadata": {
        "id": "3425ccc2"
      },
      "outputs": [],
      "source": [
        "def task2(string: str, i):\n",
        "    string = string.replace(string[i], '')\n",
        "    return string"
      ]
    },
    {
      "cell_type": "code",
      "execution_count": null,
      "id": "7df30749",
      "metadata": {
        "id": "7df30749",
        "outputId": "2f0ff958-04af-4bc1-d6c5-912c9b0006bd"
      },
      "outputs": [
        {
          "data": {
            "text/plain": [
              "'abcdfgh'"
            ]
          },
          "execution_count": 12,
          "metadata": {},
          "output_type": "execute_result"
        }
      ],
      "source": [
        "task2('abcdefgh', 4)"
      ]
    },
    {
      "cell_type": "markdown",
      "id": "51ae6b0f",
      "metadata": {
        "id": "51ae6b0f"
      },
      "source": [
        "### 3. Write a Python program to split and join a string?"
      ]
    },
    {
      "cell_type": "code",
      "execution_count": null,
      "id": "f4a55976",
      "metadata": {
        "id": "f4a55976",
        "outputId": "3a302304-1d4a-438f-e61a-1c31a2e470a4"
      },
      "outputs": [
        {
          "name": "stdout",
          "output_type": "stream",
          "text": [
            "['Write', 'a', 'Python', 'program', 'to', 'split', 'and', 'join', 'a', 'string?']\n",
            "Write a Python program to split and join a string?\n"
          ]
        }
      ],
      "source": [
        "string = \"Write a Python program to split and join a string?\"\n",
        "\n",
        "split = string.split(' ')\n",
        "print(split)\n",
        "\n",
        "join = \" \".join(split)\n",
        "print(join)"
      ]
    },
    {
      "cell_type": "markdown",
      "id": "59079fe1",
      "metadata": {
        "id": "59079fe1"
      },
      "source": [
        "### 4. Write a Python to check if a given string is binary string or not?"
      ]
    },
    {
      "cell_type": "code",
      "execution_count": null,
      "id": "89f59702",
      "metadata": {
        "id": "89f59702",
        "outputId": "2b05e9fb-dc39-4dd4-9413-0a8247ac9288"
      },
      "outputs": [
        {
          "name": "stdout",
          "output_type": "stream",
          "text": [
            "Enter the string: 101010100001\n",
            "Binary\n"
          ]
        }
      ],
      "source": [
        "string = input(\"Enter the string: \")\n",
        "binary = ['0', '1']\n",
        "\n",
        "is_binary = True\n",
        "for i in string:\n",
        "    if i not in binary:\n",
        "        is_binary = False\n",
        "    \n",
        "if is_binary:\n",
        "    print(\"Binary\")\n",
        "else:\n",
        "    print(\"Not Binary\")"
      ]
    },
    {
      "cell_type": "code",
      "execution_count": null,
      "id": "569d45d9",
      "metadata": {
        "id": "569d45d9",
        "outputId": "0dce4d93-cd08-4612-a57d-f95114ade02b"
      },
      "outputs": [
        {
          "name": "stdout",
          "output_type": "stream",
          "text": [
            "Enter the string: asdcqwe\n",
            "Not Binary\n"
          ]
        }
      ],
      "source": [
        "string = input(\"Enter the string: \")\n",
        "binary = ['0', '1']\n",
        "\n",
        "is_binary = True\n",
        "for i in string:\n",
        "    if i not in binary:\n",
        "        is_binary = False\n",
        "    \n",
        "if is_binary:\n",
        "    print(\"Binary\")\n",
        "else:\n",
        "    print(\"Not Binary\")"
      ]
    },
    {
      "cell_type": "markdown",
      "id": "4d6cf11a",
      "metadata": {
        "id": "4d6cf11a"
      },
      "source": [
        "### 5. Write a Python program to find uncommon words from two Strings?"
      ]
    },
    {
      "cell_type": "code",
      "execution_count": null,
      "id": "73bd42d1",
      "metadata": {
        "id": "73bd42d1"
      },
      "outputs": [],
      "source": [
        "def task5(string1, string2):\n",
        "    \n",
        "    string1 = string1.split(' ')\n",
        "    string2 = string2.split(' ')\n",
        "    uncommon = []\n",
        "    \n",
        "    for i in set(string1):\n",
        "        if i not in string2:\n",
        "            uncommon.append(i)\n",
        "\n",
        "    for i in set(string2):\n",
        "        if i not in string1:\n",
        "            uncommon.append(i)\n",
        "            \n",
        "    return uncommon"
      ]
    },
    {
      "cell_type": "code",
      "execution_count": null,
      "id": "73537784",
      "metadata": {
        "id": "73537784",
        "outputId": "de49df83-76a4-4d8c-ef3f-0141d589292a"
      },
      "outputs": [
        {
          "data": {
            "text/plain": [
              "['and',\n",
              " 'join',\n",
              " 'string',\n",
              " 'split',\n",
              " 'words',\n",
              " 'find',\n",
              " 'from',\n",
              " 'Strings',\n",
              " 'uncommon',\n",
              " 'two']"
            ]
          },
          "execution_count": 48,
          "metadata": {},
          "output_type": "execute_result"
        }
      ],
      "source": [
        "string1 = \"Write a Python program to split and join a string\"\n",
        "string2 = \"Write a Python program to find uncommon words from two Strings\"\n",
        "\n",
        "task5(string1, string2)"
      ]
    },
    {
      "cell_type": "markdown",
      "id": "e2b24677",
      "metadata": {
        "id": "e2b24677"
      },
      "source": [
        "### 6. Write a Python to find all duplicate characters in string?"
      ]
    },
    {
      "cell_type": "code",
      "execution_count": null,
      "id": "a410f775",
      "metadata": {
        "id": "a410f775"
      },
      "outputs": [],
      "source": [
        "def task6(string: str):\n",
        "    duplicate = []\n",
        "    for i in string:\n",
        "        if string.count(i) > 1:\n",
        "            duplicate.append(i)\n",
        "            \n",
        "    return set(duplicate)"
      ]
    },
    {
      "cell_type": "code",
      "execution_count": null,
      "id": "91fdbf82",
      "metadata": {
        "id": "91fdbf82",
        "outputId": "c19e7c44-c5d7-4340-d71a-37ad04498b5d"
      },
      "outputs": [
        {
          "data": {
            "text/plain": [
              "{' ', 'a', 'c', 'd', 'e', 'i', 'l', 'n', 'r', 's', 't'}"
            ]
          },
          "execution_count": 51,
          "metadata": {},
          "output_type": "execute_result"
        }
      ],
      "source": [
        "task6(\"find all duplicate characters in string\")"
      ]
    },
    {
      "cell_type": "markdown",
      "id": "1a6af7e4",
      "metadata": {
        "id": "1a6af7e4"
      },
      "source": [
        "### 7. Write a Python Program to check if a string contains any special character?"
      ]
    },
    {
      "cell_type": "code",
      "execution_count": null,
      "id": "75c1ba39",
      "metadata": {
        "id": "75c1ba39",
        "outputId": "60de7bf5-ccff-421b-c503-c65da70c9969"
      },
      "outputs": [
        {
          "name": "stdout",
          "output_type": "stream",
          "text": [
            "Enter a string: qwe*213(*(&\n",
            "Given string contains special characters\n"
          ]
        }
      ],
      "source": [
        "import re\n",
        "\n",
        "\n",
        "string = input(\"Enter a string: \")\n",
        "regex = re.compile('[@_!#$%^&*()<>?/\\|}{~:]')  \n",
        "\n",
        "if(regex.search(string) == None):\n",
        "    print(\"Given string does not contain special characters\")\n",
        "else:\n",
        "    print(\"Given string contains special characters\")"
      ]
    },
    {
      "cell_type": "code",
      "execution_count": null,
      "id": "23f56cac",
      "metadata": {
        "id": "23f56cac",
        "outputId": "75730615-7ea0-4782-981b-8e350dbe5913"
      },
      "outputs": [
        {
          "name": "stdout",
          "output_type": "stream",
          "text": [
            "Enter a string: 12312312\n",
            "Given string does not contain special characters\n"
          ]
        }
      ],
      "source": [
        "import re\n",
        "\n",
        "\n",
        "string = input(\"Enter a string: \")\n",
        "regex = re.compile('[@_!#$%^&*()<>?/\\|}{~:]')  \n",
        "\n",
        "if(regex.search(string) == None):\n",
        "    print(\"Given string does not contain special characters\")\n",
        "else:\n",
        "    print(\"Given string contains special characters\")"
      ]
    },
    {
      "cell_type": "code",
      "execution_count": null,
      "id": "cf59aa91",
      "metadata": {
        "id": "cf59aa91"
      },
      "outputs": [],
      "source": []
    }
  ],
  "metadata": {
    "kernelspec": {
      "display_name": "Python 3 (ipykernel)",
      "language": "python",
      "name": "python3"
    },
    "language_info": {
      "codemirror_mode": {
        "name": "ipython",
        "version": 3
      },
      "file_extension": ".py",
      "mimetype": "text/x-python",
      "name": "python",
      "nbconvert_exporter": "python",
      "pygments_lexer": "ipython3",
      "version": "3.9.7"
    },
    "colab": {
      "provenance": [],
      "include_colab_link": true
    }
  },
  "nbformat": 4,
  "nbformat_minor": 5
}